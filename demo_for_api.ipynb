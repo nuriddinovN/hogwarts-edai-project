{
  "nbformat": 4,
  "nbformat_minor": 0,
  "metadata": {
    "colab": {
      "provenance": [],
      "name": "demo_for_api.ipynb",
      "authorship_tag": "ABX9TyOZJa+jXYuxVe+QHl7M/31r",
      "include_colab_link": true
    },
    "kernelspec": {
      "name": "python3",
      "display_name": "Python 3"
    },
    "language_info": {
      "name": "python"
    }
  },
  "cells": [
    {
      "cell_type": "markdown",
      "metadata": {
        "id": "view-in-github",
        "colab_type": "text"
      },
      "source": [
        "<a href=\"https://colab.research.google.com/github/nuriddinovN/hogwarts-edai-project/blob/main/demo_for_api.ipynb\" target=\"_parent\"><img src=\"https://colab.research.google.com/assets/colab-badge.svg\" alt=\"Open In Colab\"/></a>"
      ]
    },
    {
      "cell_type": "code",
      "source": [
        "# ✅ 1. Install the required Gemini library\n",
        "!pip install -q google-generativeai\n",
        "\n",
        "# ✅ 2. Import libraries\n",
        "import google.generativeai as genai\n",
        "from google.colab import userdata\n"
      ],
      "metadata": {
        "id": "WdQd4oi29CRF"
      },
      "execution_count": null,
      "outputs": []
    },
    {
      "cell_type": "code",
      "source": [
        "# ✅ 3. Load your API key (must be stored in Colab: `googe_ai`)\n",
        "API_KEY = userdata.get(\"googe_ai\")  # Typo fixed if needed\n",
        "if not API_KEY:\n",
        "    raise ValueError(\"❌ API key not found in Colab userdata. Set 'googe_ai' in secrets.\")\n",
        "\n",
        "# ✅ 4. Configure the Gemini client\n",
        "genai.configure(api_key=API_KEY)\n",
        "\n",
        "# ✅ 5. Summarization Function\n",
        "def summarize_with_gemini(prompt_text: str, model_name: str = \"gemini-1.5-flash\") -> Optional[str]:\n",
        "    try:\n",
        "        model = genai.GenerativeModel(model_name)\n",
        "        response = model.generate_content(f\"Summarize this:\\n{prompt_text}\")\n",
        "        return response.text.strip()\n",
        "    except Exception as e:\n",
        "        return f\"❌ Gemini Error: {e}\"\n"
      ],
      "metadata": {
        "id": "8CjzAEWuA2Wu"
      },
      "execution_count": null,
      "outputs": []
    },
    {
      "cell_type": "code",
      "source": [
        "# ✅ 6. Example Usage\n",
        "sample_text = \"\"\"\n",
        "Social science (often rendered in the plural as the social sciences) is one of the branches of science, devoted to the study of societies and the relationships among members within those societies. The term was formerly used to refer to the field of sociology, the original \"science of society\", established in the 18th century. It now encompasses a wide array of additional academic disciplines, including anthropology, archaeology, economics, geography, history, linguistics, management, communication studies, psychology, culturology, and political science.[1]\n",
        "\n",
        "The majority of positivist social scientists use methods resembling those used in the natural sciences as tools for understanding societies, and so define science in its stricter modern sense. Speculative social scientists, otherwise known as interpretivist scientists, by contrast, may use social critique or symbolic interpretation rather than constructing empirically falsifiable theories, and thus treat science in its broader sense.[2] In modern academic practice, researchers are often eclectic, using multiple methodologies (combining both quantitative and qualitative research).[3] To gain a deeper understanding of complex human behavior in digital environments, social science disciplines have increasingly integrated interdisciplinary approaches, big data, and computational tools.[4] The term social research has also acquired a degree of autonomy as practitioners from various disciplines share similar goals and methods.[5]\n",
        "\"\"\"\n",
        "\n",
        "summary = summarize_with_gemini(sample_text)\n",
        "print(\"🔶 Gemini Summary:\\n\", summary)\n"
      ],
      "metadata": {
        "colab": {
          "base_uri": "https://localhost:8080/",
          "height": 72
        },
        "id": "jCIaEDfQA78p",
        "outputId": "6310d498-4123-4faa-b667-f1bd6b83a91a"
      },
      "execution_count": null,
      "outputs": [
        {
          "output_type": "stream",
          "name": "stdout",
          "text": [
            "🔶 Gemini Summary:\n",
            " Social science is a broad field encompassing the study of societies and social relationships.  Originally focused on sociology, it now includes numerous disciplines like anthropology, economics, history, and psychology.  While some social scientists utilize methods similar to the natural sciences (positivism), others employ interpretive approaches focusing on social critique and symbolic meaning.  Modern social science increasingly integrates interdisciplinary methods, big data, and computational tools, reflecting a move toward eclectic and mixed-methods research.\n"
          ]
        }
      ]
    },
    {
      "cell_type": "code",
      "source": [],
      "metadata": {
        "id": "fumENafXBDjl"
      },
      "execution_count": null,
      "outputs": []
    }
  ]
}