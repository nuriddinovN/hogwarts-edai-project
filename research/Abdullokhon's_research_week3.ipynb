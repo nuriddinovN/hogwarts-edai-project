{
  "nbformat": 4,
  "nbformat_minor": 0,
  "metadata": {
    "colab": {
      "provenance": [],
      "gpuType": "T4"
    },
    "kernelspec": {
      "name": "python3",
      "display_name": "Python 3"
    },
    "language_info": {
      "name": "python"
    },
    "accelerator": "GPU"
  },
  "cells": [
    {
      "cell_type": "code",
      "source": [
        "!pip install openai google-generativeai python-dotenv requests"
      ],
      "metadata": {
        "colab": {
          "base_uri": "https://localhost:8080/"
        },
        "collapsed": true,
        "id": "l1nBvx4ZhHGo",
        "outputId": "cfa9328f-f87f-43a3-c3e4-1290631177f7"
      },
      "execution_count": null,
      "outputs": [
        {
          "output_type": "stream",
          "name": "stdout",
          "text": [
            "Requirement already satisfied: openai in /usr/local/lib/python3.11/dist-packages (1.91.0)\n",
            "Requirement already satisfied: google-generativeai in /usr/local/lib/python3.11/dist-packages (0.8.5)\n",
            "Collecting python-dotenv\n",
            "  Downloading python_dotenv-1.1.1-py3-none-any.whl.metadata (24 kB)\n",
            "Requirement already satisfied: requests in /usr/local/lib/python3.11/dist-packages (2.32.3)\n",
            "Requirement already satisfied: anyio<5,>=3.5.0 in /usr/local/lib/python3.11/dist-packages (from openai) (4.9.0)\n",
            "Requirement already satisfied: distro<2,>=1.7.0 in /usr/local/lib/python3.11/dist-packages (from openai) (1.9.0)\n",
            "Requirement already satisfied: httpx<1,>=0.23.0 in /usr/local/lib/python3.11/dist-packages (from openai) (0.28.1)\n",
            "Requirement already satisfied: jiter<1,>=0.4.0 in /usr/local/lib/python3.11/dist-packages (from openai) (0.10.0)\n",
            "Requirement already satisfied: pydantic<3,>=1.9.0 in /usr/local/lib/python3.11/dist-packages (from openai) (2.11.7)\n",
            "Requirement already satisfied: sniffio in /usr/local/lib/python3.11/dist-packages (from openai) (1.3.1)\n",
            "Requirement already satisfied: tqdm>4 in /usr/local/lib/python3.11/dist-packages (from openai) (4.67.1)\n",
            "Requirement already satisfied: typing-extensions<5,>=4.11 in /usr/local/lib/python3.11/dist-packages (from openai) (4.14.0)\n",
            "Requirement already satisfied: google-ai-generativelanguage==0.6.15 in /usr/local/lib/python3.11/dist-packages (from google-generativeai) (0.6.15)\n",
            "Requirement already satisfied: google-api-core in /usr/local/lib/python3.11/dist-packages (from google-generativeai) (2.25.1)\n",
            "Requirement already satisfied: google-api-python-client in /usr/local/lib/python3.11/dist-packages (from google-generativeai) (2.173.0)\n",
            "Requirement already satisfied: google-auth>=2.15.0 in /usr/local/lib/python3.11/dist-packages (from google-generativeai) (2.38.0)\n",
            "Requirement already satisfied: protobuf in /usr/local/lib/python3.11/dist-packages (from google-generativeai) (5.29.5)\n",
            "Requirement already satisfied: proto-plus<2.0.0dev,>=1.22.3 in /usr/local/lib/python3.11/dist-packages (from google-ai-generativelanguage==0.6.15->google-generativeai) (1.26.1)\n",
            "Requirement already satisfied: charset-normalizer<4,>=2 in /usr/local/lib/python3.11/dist-packages (from requests) (3.4.2)\n",
            "Requirement already satisfied: idna<4,>=2.5 in /usr/local/lib/python3.11/dist-packages (from requests) (3.10)\n",
            "Requirement already satisfied: urllib3<3,>=1.21.1 in /usr/local/lib/python3.11/dist-packages (from requests) (2.4.0)\n",
            "Requirement already satisfied: certifi>=2017.4.17 in /usr/local/lib/python3.11/dist-packages (from requests) (2025.6.15)\n",
            "Requirement already satisfied: googleapis-common-protos<2.0.0,>=1.56.2 in /usr/local/lib/python3.11/dist-packages (from google-api-core->google-generativeai) (1.70.0)\n",
            "Requirement already satisfied: cachetools<6.0,>=2.0.0 in /usr/local/lib/python3.11/dist-packages (from google-auth>=2.15.0->google-generativeai) (5.5.2)\n",
            "Requirement already satisfied: pyasn1-modules>=0.2.1 in /usr/local/lib/python3.11/dist-packages (from google-auth>=2.15.0->google-generativeai) (0.4.2)\n",
            "Requirement already satisfied: rsa<5,>=3.1.4 in /usr/local/lib/python3.11/dist-packages (from google-auth>=2.15.0->google-generativeai) (4.9.1)\n",
            "Requirement already satisfied: httpcore==1.* in /usr/local/lib/python3.11/dist-packages (from httpx<1,>=0.23.0->openai) (1.0.9)\n",
            "Requirement already satisfied: h11>=0.16 in /usr/local/lib/python3.11/dist-packages (from httpcore==1.*->httpx<1,>=0.23.0->openai) (0.16.0)\n",
            "Requirement already satisfied: annotated-types>=0.6.0 in /usr/local/lib/python3.11/dist-packages (from pydantic<3,>=1.9.0->openai) (0.7.0)\n",
            "Requirement already satisfied: pydantic-core==2.33.2 in /usr/local/lib/python3.11/dist-packages (from pydantic<3,>=1.9.0->openai) (2.33.2)\n",
            "Requirement already satisfied: typing-inspection>=0.4.0 in /usr/local/lib/python3.11/dist-packages (from pydantic<3,>=1.9.0->openai) (0.4.1)\n",
            "Requirement already satisfied: httplib2<1.0.0,>=0.19.0 in /usr/local/lib/python3.11/dist-packages (from google-api-python-client->google-generativeai) (0.22.0)\n",
            "Requirement already satisfied: google-auth-httplib2<1.0.0,>=0.2.0 in /usr/local/lib/python3.11/dist-packages (from google-api-python-client->google-generativeai) (0.2.0)\n",
            "Requirement already satisfied: uritemplate<5,>=3.0.1 in /usr/local/lib/python3.11/dist-packages (from google-api-python-client->google-generativeai) (4.2.0)\n",
            "Requirement already satisfied: grpcio<2.0.0,>=1.33.2 in /usr/local/lib/python3.11/dist-packages (from google-api-core[grpc]!=2.0.*,!=2.1.*,!=2.10.*,!=2.2.*,!=2.3.*,!=2.4.*,!=2.5.*,!=2.6.*,!=2.7.*,!=2.8.*,!=2.9.*,<3.0.0dev,>=1.34.1->google-ai-generativelanguage==0.6.15->google-generativeai) (1.73.0)\n",
            "Requirement already satisfied: grpcio-status<2.0.0,>=1.33.2 in /usr/local/lib/python3.11/dist-packages (from google-api-core[grpc]!=2.0.*,!=2.1.*,!=2.10.*,!=2.2.*,!=2.3.*,!=2.4.*,!=2.5.*,!=2.6.*,!=2.7.*,!=2.8.*,!=2.9.*,<3.0.0dev,>=1.34.1->google-ai-generativelanguage==0.6.15->google-generativeai) (1.71.0)\n",
            "Requirement already satisfied: pyparsing!=3.0.0,!=3.0.1,!=3.0.2,!=3.0.3,<4,>=2.4.2 in /usr/local/lib/python3.11/dist-packages (from httplib2<1.0.0,>=0.19.0->google-api-python-client->google-generativeai) (3.2.3)\n",
            "Requirement already satisfied: pyasn1<0.7.0,>=0.6.1 in /usr/local/lib/python3.11/dist-packages (from pyasn1-modules>=0.2.1->google-auth>=2.15.0->google-generativeai) (0.6.1)\n",
            "Downloading python_dotenv-1.1.1-py3-none-any.whl (20 kB)\n",
            "Installing collected packages: python-dotenv\n",
            "Successfully installed python-dotenv-1.1.1\n"
          ]
        }
      ]
    },
    {
      "cell_type": "code",
      "source": [
        "from openai import OpenAI\n",
        "\n",
        "client = OpenAI(\n",
        "  base_url=\"https://openrouter.ai/api/v1\",\n",
        "  api_key=\"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\",\n",
        ")"
      ],
      "metadata": {
        "id": "ysCowqA_pJvO"
      },
      "execution_count": null,
      "outputs": []
    },
    {
      "cell_type": "code",
      "source": [
        "completion = client.chat.completions.create(\n",
        "  model=\"qwen/qwen3-8b\",\n",
        "  messages=[\n",
        "    {\n",
        "      \"role\": \"user\",\n",
        "      \"content\": \"Summarize this: A supernova is what happens when a large enough star explodes. Such explosions are among the most dramatic of all astronomical events, and the resulting remnant can be a spectacular sight thousands of years later. Fortunately, supernovae are relatively rare, and we\\'re very unlikely to get caught up in one. The most disastrous thing from our perspective would be if our own Sun went supernova, but this will never happen. Only two types of star are capable of exploding in such a dramatic fashion: super-dense white dwarfs orbiting larger companion stars, which can produce Type I supernovae, or stars with at least eight times as much mass as the Sun, which end their lives as Type Il supernovae. Our Sun isn\\'t in eigher of this categories\"\n",
        "    }\n",
        "  ]\n",
        ")\n",
        "\n",
        "print(completion.choices[0].message.content)\n"
      ],
      "metadata": {
        "colab": {
          "base_uri": "https://localhost:8080/"
        },
        "collapsed": true,
        "id": "2UTKbL01jm2N",
        "outputId": "9bcfde94-f82c-4925-dbe3-c08c83e09399"
      },
      "execution_count": null,
      "outputs": [
        {
          "output_type": "stream",
          "name": "stdout",
          "text": [
            "A supernova occurs when a sufficiently massive star explodes, resulting in a dramatic astronomical event. Its remnants can become visible thousands of years after the explosion. While rare, the most dangerous scenario for Earth would be if the Sun itself went supernova, which is impossible since it lacks the necessary mass. Only two types of stars can produce supernovae: super-dense white dwarfs in binary systems (causing Type I) and stars with at least eight times the Sun's mass (leading to Type II). The Sun does not fall into either category.\n"
          ]
        }
      ]
    },
    {
      "cell_type": "code",
      "source": [
        "completion = client.chat.completions.create(\n",
        "  model=\"google/gemini-flash-1.5-8b\",\n",
        "  messages=[\n",
        "    {\n",
        "      \"role\": \"user\",\n",
        "      \"content\": \"Summarize this: A supernova is what happens when a large enough star explodes. Such explosions are among the most dramatic of all astronomical events, and the resulting remnant can be a spectacular sight thousands of years later. Fortunately, supernovae are relatively rare, and we\\'re very unlikely to get caught up in one. The most disastrous thing from our perspective would be if our own Sun went supernova, but this will never happen. Only two types of star are capable of exploding in such a dramatic fashion: super-dense white dwarfs orbiting larger companion stars, which can produce Type I supernovae, or stars with at least eight times as much mass as the Sun, which end their lives as Type Il supernovae. Our Sun isn\\'t in eigher of this categories\"\n",
        "    }\n",
        "  ]\n",
        ")\n",
        "\n",
        "print(completion.choices[0].message.content)"
      ],
      "metadata": {
        "colab": {
          "base_uri": "https://localhost:8080/"
        },
        "id": "dG00xrRkn5Ap",
        "outputId": "9d27cbe0-9aa0-484d-9f4b-df770101124f"
      },
      "execution_count": null,
      "outputs": [
        {
          "output_type": "stream",
          "name": "stdout",
          "text": [
            "Supernovae are powerful star explosions, but are rare and unlikely to harm Earth.  Only white dwarfs in binary systems and stars eight times more massive than our Sun can become supernovae.  Our Sun is not capable of such an event.\n",
            "\n"
          ]
        }
      ]
    },
    {
      "cell_type": "code",
      "source": [
        "completion = client.chat.completions.create(\n",
        "  model=\"deepseek/deepseek-r1-0528-qwen3-8b:free\",\n",
        "  messages=[\n",
        "    {\n",
        "      \"role\": \"user\",\n",
        "      \"content\": \"Summarize this: A supernova is what happens when a large enough star explodes. Such explosions are among the most dramatic of all astronomical events, and the resulting remnant can be a spectacular sight thousands of years later. Fortunately, supernovae are relatively rare, and we\\'re very unlikely to get caught up in one. The most disastrous thing from our perspective would be if our own Sun went supernova, but this will never happen. Only two types of star are capable of exploding in such a dramatic fashion: super-dense white dwarfs orbiting larger companion stars, which can produce Type I supernovae, or stars with at least eight times as much mass as the Sun, which end their lives as Type Il supernovae. Our Sun isn\\'t in eigher of this categories\"\n",
        "    }\n",
        "  ]\n",
        ")\n",
        "\n",
        "print(completion.choices[0].message.content)"
      ],
      "metadata": {
        "colab": {
          "base_uri": "https://localhost:8080/"
        },
        "id": "G8UTcUhJn7g4",
        "outputId": "be6e752e-4259-474e-8c11-76b5c5491ca6"
      },
      "execution_count": null,
      "outputs": [
        {
          "output_type": "stream",
          "name": "stdout",
          "text": [
            "Okay, here's a summary of the text:\n",
            "\n",
            "A supernova occurs when a sufficiently large star explodes, a very dramatic event whose remnants can be visible for millennia. These explosions are relatively rare, and we on Earth are unlikely to be seriously affected by them. In fact, the most disastrous scenario for our solar system would be our Sun exploding, but that is impossible since it simply doesn't have enough mass or density. Only two types of stars can supernova: certain white dwarfs orbiting other stars producing Type I supernovae, or individual stars with at least eight solar masses exploding as Type II supernovae. Our Sun, being much less massive, does not fall into either category.\n"
          ]
        }
      ]
    },
    {
      "cell_type": "code",
      "source": [
        "completion = client.chat.completions.create(\n",
        "  model=\"openai/gpt-4.1-nano\",\n",
        "  messages=[\n",
        "    {\n",
        "      \"role\": \"user\",\n",
        "      \"content\": \"Summarize this: A supernova is what happens when a large enough star explodes. Such explosions are among the most dramatic of all astronomical events, and the resulting remnant can be a spectacular sight thousands of years later. Fortunately, supernovae are relatively rare, and we\\'re very unlikely to get caught up in one. The most disastrous thing from our perspective would be if our own Sun went supernova, but this will never happen. Only two types of star are capable of exploding in such a dramatic fashion: super-dense white dwarfs orbiting larger companion stars, which can produce Type I supernovae, or stars with at least eight times as much mass as the Sun, which end their lives as Type Il supernovae. Our Sun isn\\'t in eigher of this categories\"\n",
        "    }\n",
        "  ]\n",
        ")\n",
        "\n",
        "print(completion.choices[0].message.content)"
      ],
      "metadata": {
        "colab": {
          "base_uri": "https://localhost:8080/"
        },
        "id": "ZA5KI6Gko1hu",
        "outputId": "47b9adfd-ec48-419a-adb9-ab8bb3c49645"
      },
      "execution_count": null,
      "outputs": [
        {
          "output_type": "stream",
          "name": "stdout",
          "text": [
            "A supernova occurs when a sufficiently large star explodes, creating a spectacular remnant visible for thousands of years. These events are rare, making it unlikely for us to be affected, and our Sun will never become a supernova. Only two types of stars can explode dramatically: white dwarfs in binary systems (causing Type I supernovae) and stars at least eight times the Sun’s mass (causing Type II supernovae). Our Sun does not belong to either category.\n"
          ]
        }
      ]
    },
    {
      "cell_type": "markdown",
      "source": [
        "#Report\n",
        "| Model             | Length (short / mid / long) | Clarity (clear / partially clear / unclear) | Relevance (low / mid / high) |\n",
        "| :---------------- | :------: | :----: | :-----:|\n",
        "| qwen/qwen3-8b        |   mid   | partially clear | mid |\n",
        "| google/gemini-flash-1.5-8b         |   mid   | clear | high |\n",
        "| deepseek/deepseek-r1-0528-qwen3-8b:free |  long   | clear | mid |\n",
        "| openai/gpt-4.1-nano |  mid   | clear | mid |\n",
        "\n",
        "\n"
      ],
      "metadata": {
        "id": "xVka7O4pGGcs"
      }
    },
    {
      "cell_type": "markdown",
      "source": [
        "#Testing Question generation models"
      ],
      "metadata": {
        "id": "TYSrDRz_PKhs"
      }
    },
    {
      "cell_type": "code",
      "source": [
        "completion = client.chat.completions.create(\n",
        "  model=\"qwen/qwen3-8b\",\n",
        "  messages=[\n",
        "    {\n",
        "      \"role\": \"user\",\n",
        "      \"content\": \"Generate 5 multiple-choice questions from the following text: Generate Questions depending on this context: A supernova is what happens when a large enough star explodes. Such explosions are among the most dramatic of all astronomical events, and the resulting remnant can be a spectacular sight thousands of years later. Fortunately, supernovae are relatively rare, and we\\'re very unlikely to get caught up in one. The most disastrous thing from our perspective would be if our own Sun went supernova, but this will never happen. Only two types of star are capable of exploding in such a dramatic fashion: super-dense white dwarfs orbiting larger companion stars, which can produce Type I supernovae, or stars with at least eight times as much mass as the Sun, which end their lives as Type Il supernovae. Our Sun isn\\'t in eigher of this categories. Even so, this doesn\\'t mean that Earth can never be harmed by a supernova - in theory, at least. As well as producing the visible remnant, a supernova creates a burst of high-energy radiation that travels outwards at the speed of light. This radiation, particularly the highest energy gamma rays, could damage Earth\\'s biosphere if it came from the explosion of a nearby star. A sudden burst of gamma rays hitting the upper atmosphere could convert nitrogen and oxygen into smog-like nitrogen oxides, as well as damaging the ozone layer that protects Earth\\'s surface from the deadliest frequencies of ultraviolet radiation. These effects would be particularly catastrophic for marine life. Scientists have speculated that just such a gamma-ray burst around 450 million years ago caused the Late Ordovician mass extinction, which saw the death of around 60 per cent of all oceanic life on Earth. The big question is how close a supernova has to be to produce effects like these on our planet. There\\'s plenty of uncertainty around the exact figures, but the graphic on this page shows the current best guess as to the danger zone. Fortunately, astronomers aren\\'t aware of any imminent supernovae close to us . The best known star likely to produce a Type Il supernova any time soon is Betelgeuse, which is a perfectly safe 642 light years away. The closest of all the known \\'supernova progenitor candidates\\' is a star called IK Pegasi B, which could potentially create a Type I supernova - but even this is a borderline-safe 150 light years away.\"\n",
        "    }\n",
        "  ]\n",
        ")\n",
        "\n",
        "print(completion.choices[0].message.content)\n"
      ],
      "metadata": {
        "colab": {
          "base_uri": "https://localhost:8080/"
        },
        "id": "RXez6gY-PJmF",
        "outputId": "84f4b3d7-7a0b-4002-9bdb-e6b69af199fc"
      },
      "execution_count": null,
      "outputs": [
        {
          "output_type": "stream",
          "name": "stdout",
          "text": [
            "Here are 5 multiple-choice questions based on the provided text:  \n",
            "\n",
            "---\n",
            "\n",
            "**1. What is a supernova?**  \n",
            "a) A slow collapse of a white dwarf star.  \n",
            "b) An explosion of a large enough star.  \n",
            "c) A type of black hole formation.  \n",
            "d) A planetary nebula stage in a star's life.  \n",
            "**Correct answer:** b) An explosion of a large enough star.  \n",
            "\n",
            "---\n",
            "\n",
            "**2. Which two types of stars are capable of producing supernovae?**  \n",
            "a) Red giants and neutron stars.  \n",
            "b) White dwarfs in binary systems and massive stars (≥8 solar masses).  \n",
            "c) Main-sequence stars and brown dwarfs.  \n",
            "d) Pulsars and quasars.  \n",
            "**Correct answer:** b) White dwarfs in binary systems and massive stars (≥8 solar masses).  \n",
            "\n",
            "---\n",
            "\n",
            "**3. Why is the Sun unlikely to become a supernova?**  \n",
            "a) Because it is not massive enough.  \n",
            "b) Because it is a binary star system.  \n",
            "c) Because it is already a red giant.  \n",
            "d) Because it lacks the necessary helium.  \n",
            "**Correct answer:** a) Because it is not massive enough.  \n",
            "\n",
            "---\n",
            "\n",
            "**4. What is one potential effect of a supernova's gamma-ray burst on Earth?**  \n",
            "a) It could increase global temperatures.  \n",
            "b) It could damage the ozone layer, increasing UV radiation on the surface.  \n",
            "c) It could create new planetary systems.  \n",
            "d) It could cause volcanic eruptions.  \n",
            "**Correct answer:** b) It could damage the ozone layer, increasing UV radiation on the surface.  \n",
            "\n",
            "---\n",
            "\n",
            "**5. Which of the following stars is the closest known supernova progenitor candidate?**  \n",
            "a) Betelgeuse (642 light years away).  \n",
            "b) IK Pegasi B (150 light years away).  \n",
            "c) Proxima Centauri (4.24 light years away).  \n",
            "d) Alpha Centauri A (4.37 light years away).  \n",
            "**Correct answer:** b) IK Pegasi B (150 light years away).  \n",
            "\n",
            "--- \n",
            "\n",
            "Let me know if you need further adjustments!\n"
          ]
        }
      ]
    },
    {
      "cell_type": "code",
      "source": [
        "completion = client.chat.completions.create(\n",
        "  model=\"google/gemini-flash-1.5-8b\",\n",
        "  messages=[\n",
        "    {\n",
        "      \"role\": \"user\",\n",
        "      \"content\": \"Generate 5 multiple-choice questions from the following text: Generate Questions depending on this context: A supernova is what happens when a large enough star explodes. Such explosions are among the most dramatic of all astronomical events, and the resulting remnant can be a spectacular sight thousands of years later. Fortunately, supernovae are relatively rare, and we\\'re very unlikely to get caught up in one. The most disastrous thing from our perspective would be if our own Sun went supernova, but this will never happen. Only two types of star are capable of exploding in such a dramatic fashion: super-dense white dwarfs orbiting larger companion stars, which can produce Type I supernovae, or stars with at least eight times as much mass as the Sun, which end their lives as Type Il supernovae. Our Sun isn\\'t in eigher of this categories. Even so, this doesn\\'t mean that Earth can never be harmed by a supernova - in theory, at least. As well as producing the visible remnant, a supernova creates a burst of high-energy radiation that travels outwards at the speed of light. This radiation, particularly the highest energy gamma rays, could damage Earth\\'s biosphere if it came from the explosion of a nearby star. A sudden burst of gamma rays hitting the upper atmosphere could convert nitrogen and oxygen into smog-like nitrogen oxides, as well as damaging the ozone layer that protects Earth\\'s surface from the deadliest frequencies of ultraviolet radiation. These effects would be particularly catastrophic for marine life. Scientists have speculated that just such a gamma-ray burst around 450 million years ago caused the Late Ordovician mass extinction, which saw the death of around 60 per cent of all oceanic life on Earth. The big question is how close a supernova has to be to produce effects like these on our planet. There\\'s plenty of uncertainty around the exact figures, but the graphic on this page shows the current best guess as to the danger zone. Fortunately, astronomers aren\\'t aware of any imminent supernovae close to us . The best known star likely to produce a Type Il supernova any time soon is Betelgeuse, which is a perfectly safe 642 light years away. The closest of all the known \\'supernova progenitor candidates\\' is a star called IK Pegasi B, which could potentially create a Type I supernova - but even this is a borderline-safe 150 light years away.\"\n",
        "    }\n",
        "  ]\n",
        ")\n",
        "\n",
        "print(completion.choices[0].message.content)\n"
      ],
      "metadata": {
        "colab": {
          "base_uri": "https://localhost:8080/"
        },
        "id": "MA2wrpp_pl4j",
        "outputId": "cee0ca7c-117f-4f99-9e71-71154e1ddc8e"
      },
      "execution_count": null,
      "outputs": [
        {
          "output_type": "stream",
          "name": "stdout",
          "text": [
            "1.  What is a supernova?\n",
            "    a) A large asteroid impact.\n",
            "    b) The birth of a new star.\n",
            "    c) The explosive death of a large star.\n",
            "    d) A collision between two black holes.\n",
            "\n",
            "2.  Which type of star is *not* capable of going supernova?\n",
            "    a) Super-dense white dwarfs in binary systems.\n",
            "    b) Stars with at least eight times the mass of our Sun.\n",
            "    c) Our Sun.\n",
            "    d) Stars with less than 8 times the mass of our Sun.\n",
            "\n",
            "3.  What is a potential catastrophic effect of a nearby supernova on Earth?\n",
            "    a) A significant increase in global temperature.\n",
            "    b) Disruption of Earth's tectonic plates.\n",
            "    c) Damage to Earth's biosphere from high-energy radiation.\n",
            "    d) Formation of a new moon.\n",
            "\n",
            "\n",
            "4.  According to the text, what could a supernova's high-energy radiation do to Earth's atmosphere?\n",
            "    a) Increase the amount of oxygen.\n",
            "    b)  Convert nitrogen and oxygen into smog.\n",
            "    c) Strengthen the ozone layer.\n",
            "    d) Cause a dramatic decrease in the amount of carbon dioxide.\n",
            "\n",
            "\n",
            "5.  What is the approximate distance of Betelgeuse, a star likely to become a Type II supernova soon, from Earth?\n",
            "    a) 150 light-years\n",
            "    b) 450 million light-years.\n",
            "    c) 642 light-years\n",
            "    d)  Unknown\n",
            "\n",
            "\n",
            "Answer Key:\n",
            "1.  c\n",
            "2.  c\n",
            "3.  c\n",
            "4.  b\n",
            "5.  c\n",
            "\n"
          ]
        }
      ]
    },
    {
      "cell_type": "code",
      "source": [
        "completion = client.chat.completions.create(\n",
        "  model=\"deepseek/deepseek-r1-0528-qwen3-8b:free\",\n",
        "  messages=[\n",
        "    {\n",
        "      \"role\": \"user\",\n",
        "      \"content\": \"Generate 5 multiple-choice questions from the following text: Generate Questions depending on this context: A supernova is what happens when a large enough star explodes. Such explosions are among the most dramatic of all astronomical events, and the resulting remnant can be a spectacular sight thousands of years later. Fortunately, supernovae are relatively rare, and we\\'re very unlikely to get caught up in one. The most disastrous thing from our perspective would be if our own Sun went supernova, but this will never happen. Only two types of star are capable of exploding in such a dramatic fashion: super-dense white dwarfs orbiting larger companion stars, which can produce Type I supernovae, or stars with at least eight times as much mass as the Sun, which end their lives as Type Il supernovae. Our Sun isn\\'t in eigher of this categories. Even so, this doesn\\'t mean that Earth can never be harmed by a supernova - in theory, at least. As well as producing the visible remnant, a supernova creates a burst of high-energy radiation that travels outwards at the speed of light. This radiation, particularly the highest energy gamma rays, could damage Earth\\'s biosphere if it came from the explosion of a nearby star. A sudden burst of gamma rays hitting the upper atmosphere could convert nitrogen and oxygen into smog-like nitrogen oxides, as well as damaging the ozone layer that protects Earth\\'s surface from the deadliest frequencies of ultraviolet radiation. These effects would be particularly catastrophic for marine life. Scientists have speculated that just such a gamma-ray burst around 450 million years ago caused the Late Ordovician mass extinction, which saw the death of around 60 per cent of all oceanic life on Earth. The big question is how close a supernova has to be to produce effects like these on our planet. There\\'s plenty of uncertainty around the exact figures, but the graphic on this page shows the current best guess as to the danger zone. Fortunately, astronomers aren\\'t aware of any imminent supernovae close to us . The best known star likely to produce a Type Il supernova any time soon is Betelgeuse, which is a perfectly safe 642 light years away. The closest of all the known \\'supernova progenitor candidates\\' is a star called IK Pegasi B, which could potentially create a Type I supernova - but even this is a borderline-safe 150 light years away.\"\n",
        "    }\n",
        "  ]\n",
        ")\n",
        "\n",
        "print(completion.choices[0].message.content)\n"
      ],
      "metadata": {
        "colab": {
          "base_uri": "https://localhost:8080/"
        },
        "id": "5ObjG-okpsdr",
        "outputId": "fc957f2b-317c-45b4-93d5-58856b6c513c"
      },
      "execution_count": null,
      "outputs": [
        {
          "output_type": "stream",
          "name": "stdout",
          "text": [
            "Here are 5 multiple-choice questions based on the provided text:\n",
            "\n",
            "1.  **Question:** What type of star eventually explodes as a supernova, according to the text?\n",
            "    *   A) Red giant stars\n",
            "    *   B) Yellow dwarf stars like our Sun\n",
            "    *   C) Super-dense white dwarfs *or* stars with at least 8 solar masses\n",
            "    *   D) Neutron stars after they merge\n",
            "\n",
            "2.  **Question:** What is stated as the least dramatic fate of our Sun?\n",
            "    *   A) A supernova explosion\n",
            "    *   B) A catastrophic outburst\n",
            "    *   C) Ending its life as a white dwarf\n",
            "    *   D) Being relatively safe\n",
            "\n",
            "3.  **Question:** According to the text, a supernova's high-energy radiation might harm Earth by:\n",
            "    *   A) Directly burning the atmosphere\n",
            "    *   B) Causing immediate total destruction on land\n",
            "    *   C) Converting atmospheric nitrogen/oxygen into nitrogen oxides and damaging the ozone layer\n",
            "    *   D) Making artificial satellites fall from the sky\n",
            "\n",
            "4.  **Question:** To which significant event *might* a gamma-ray burst 450 million years ago be linked, according to the text?\n",
            "    *   A) The formation of the first stars\n",
            "    *   B) The Late Ordovician mass extinction (loss of ~60% ocean life)\n",
            "    *   C) The collision of the Earth and Moon\n",
            "    *   D) The Great Ice Age\n",
            "\n",
            "5.  **Question:** Within a reasonable distance, Betelgeuse is:\n",
            "    *   A) Our Sun\n",
            "    *   B) The closest known supernova progenitor\n",
            "    *   C) 642 light years away and considered perfectly safe\n",
            "    *   D) Due to explode extremely soon as a Type I supernova\n"
          ]
        }
      ]
    },
    {
      "cell_type": "code",
      "source": [
        "completion = client.chat.completions.create(\n",
        "  model=\"openai/gpt-4.1-nano\",\n",
        "  messages=[\n",
        "    {\n",
        "      \"role\": \"user\",\n",
        "      \"content\": \"Generate 5 multiple-choice questions from the following text: Generate Questions depending on this context: A supernova is what happens when a large enough star explodes. Such explosions are among the most dramatic of all astronomical events, and the resulting remnant can be a spectacular sight thousands of years later. Fortunately, supernovae are relatively rare, and we\\'re very unlikely to get caught up in one. The most disastrous thing from our perspective would be if our own Sun went supernova, but this will never happen. Only two types of star are capable of exploding in such a dramatic fashion: super-dense white dwarfs orbiting larger companion stars, which can produce Type I supernovae, or stars with at least eight times as much mass as the Sun, which end their lives as Type Il supernovae. Our Sun isn\\'t in eigher of this categories. Even so, this doesn\\'t mean that Earth can never be harmed by a supernova - in theory, at least. As well as producing the visible remnant, a supernova creates a burst of high-energy radiation that travels outwards at the speed of light. This radiation, particularly the highest energy gamma rays, could damage Earth\\'s biosphere if it came from the explosion of a nearby star. A sudden burst of gamma rays hitting the upper atmosphere could convert nitrogen and oxygen into smog-like nitrogen oxides, as well as damaging the ozone layer that protects Earth\\'s surface from the deadliest frequencies of ultraviolet radiation. These effects would be particularly catastrophic for marine life. Scientists have speculated that just such a gamma-ray burst around 450 million years ago caused the Late Ordovician mass extinction, which saw the death of around 60 per cent of all oceanic life on Earth. The big question is how close a supernova has to be to produce effects like these on our planet. There\\'s plenty of uncertainty around the exact figures, but the graphic on this page shows the current best guess as to the danger zone. Fortunately, astronomers aren\\'t aware of any imminent supernovae close to us . The best known star likely to produce a Type Il supernova any time soon is Betelgeuse, which is a perfectly safe 642 light years away. The closest of all the known \\'supernova progenitor candidates\\' is a star called IK Pegasi B, which could potentially create a Type I supernova - but even this is a borderline-safe 150 light years away.\"\n",
        "    }\n",
        "  ]\n",
        ")\n",
        "\n",
        "print(completion.choices[0].message.content)\n"
      ],
      "metadata": {
        "colab": {
          "base_uri": "https://localhost:8080/"
        },
        "id": "Pv5crAyJpzby",
        "outputId": "28a39ef0-4759-430a-81df-f594d892e99c"
      },
      "execution_count": null,
      "outputs": [
        {
          "output_type": "stream",
          "name": "stdout",
          "text": [
            "1. Which types of stars are capable of exploding as a supernova?\n",
            "   a) Only stars with less than the Sun’s mass  \n",
            "   b) White dwarfs orbiting larger stars and stars with at least eight times the Sun’s mass  \n",
            "   c) All stars, regardless of size or type  \n",
            "   d) Only stars in the galaxy's core  \n",
            "\n",
            "**Answer:** b) White dwarfs orbiting larger stars and stars with at least eight times the Sun’s mass  \n",
            "\n",
            "2. Why is our Sun unlikely to undergo a supernova?\n",
            "   a) It is too young  \n",
            "   b) It is not classified as a super-dense white dwarf or massive enough star  \n",
            "   c) It is too close to Earth  \n",
            "   d) It has already exploded as a supernova in the past  \n",
            "\n",
            "**Answer:** b) It is not classified as a super-dense white dwarf or massive enough star  \n",
            "\n",
            "3. What potentially harmful effect could gamma rays from a nearby supernova have on Earth?\n",
            "   a) Trigger a massive earthquake  \n",
            "   b) Convert nitrogen and oxygen into nitrogen oxides, damaging the ozone layer  \n",
            "   c) Cause immediate extinction of all life forms  \n",
            "   d) Increase Earth’s gravitational pull  \n",
            "\n",
            "**Answer:** b) Convert nitrogen and oxygen into nitrogen oxides, damaging the ozone layer  \n",
            "\n",
            "4. Which historical event is hypothesized to have been caused by a gamma-ray burst from a supernova?\n",
            "   a) The extinction of dinosaurs  \n",
            "   b) The Late Ordovician mass extinction  \n",
            "   c) The formation of the Moon  \n",
            "   d) The Ice Age  \n",
            "\n",
            "**Answer:** b) The Late Ordovician mass extinction  \n",
            "\n",
            "5. Which of the following stars is currently considered a possible candidate for a future Type II supernova?\n",
            "   a) The Sun  \n",
            "   b) Betelgeuse  \n",
            "   c) Sirius  \n",
            "   d) Proxima Centauri  \n",
            "\n",
            "**Answer:** b) Betelgeuse\n"
          ]
        }
      ]
    },
    {
      "cell_type": "markdown",
      "source": [
        "#Comparison of generation of the multiple choice questions\n",
        "| Model             | Creativity (1 to 5) | Clarity (clear / partially clear / unclear) | Relevance (low / mid / high) |\n",
        "| :---------------- | :------: | :----: | :-----:|\n",
        "| qwen/qwen3-8b        |   3   | partially clear | mid |\n",
        "| google/gemini-flash-1.5-8b         |   4   | clear | high |\n",
        "| deepseek/deepseek-r1-0528-qwen3-8b:free |  5   | partially clear | high |\n",
        "| openai/gpt-4.1-nano |  3   | clear | mid |\n",
        "\n",
        "\n"
      ],
      "metadata": {
        "id": "l8Kz42WgqD8R"
      }
    },
    {
      "cell_type": "markdown",
      "source": [
        "#Question generation (Self patterned promting)"
      ],
      "metadata": {
        "id": "HvGUNz_EpgWI"
      }
    },
    {
      "cell_type": "code",
      "source": [
        "completion = client.chat.completions.create(\n",
        "  model=\"qwen/qwen3-8b\",\n",
        "  messages=[\n",
        "    {\n",
        "      \"role\": \"user\",\n",
        "      \"content\": \"Consider yourself as the teacher who generates most creative test question, and now make 5 multiple-choice questions from the following text and give answers to the tests at the end of the question list: A supernova is what happens when a large enough star explodes. Such explosions are among the most dramatic of all astronomical events, and the resulting remnant can be a spectacular sight thousands of years later. Fortunately, supernovae are relatively rare, and we\\'re very unlikely to get caught up in one. The most disastrous thing from our perspective would be if our own Sun went supernova, but this will never happen. Only two types of star are capable of exploding in such a dramatic fashion: super-dense white dwarfs orbiting larger companion stars, which can produce Type I supernovae, or stars with at least eight times as much mass as the Sun, which end their lives as Type Il supernovae. Our Sun isn\\'t in eigher of this categories. Even so, this doesn\\'t mean that Earth can never be harmed by a supernova - in theory, at least. As well as producing the visible remnant, a supernova creates a burst of high-energy radiation that travels outwards at the speed of light. This radiation, particularly the highest energy gamma rays, could damage Earth\\'s biosphere if it came from the explosion of a nearby star. A sudden burst of gamma rays hitting the upper atmosphere could convert nitrogen and oxygen into smog-like nitrogen oxides, as well as damaging the ozone layer that protects Earth\\'s surface from the deadliest frequencies of ultraviolet radiation. These effects would be particularly catastrophic for marine life. Scientists have speculated that just such a gamma-ray burst around 450 million years ago caused the Late Ordovician mass extinction, which saw the death of around 60 per cent of all oceanic life on Earth. The big question is how close a supernova has to be to produce effects like these on our planet. There\\'s plenty of uncertainty around the exact figures, but the graphic on this page shows the current best guess as to the danger zone. Fortunately, astronomers aren\\'t aware of any imminent supernovae close to us . The best known star likely to produce a Type Il supernova any time soon is Betelgeuse, which is a perfectly safe 642 light years away. The closest of all the known \\'supernova progenitor candidates\\' is a star called IK Pegasi B, which could potentially create a Type I supernova - but even this is a borderline-safe 150 light years away.\"\n",
        "    }\n",
        "  ]\n",
        ")\n",
        "\n",
        "print(completion.choices[0].message.content)\n"
      ],
      "metadata": {
        "colab": {
          "base_uri": "https://localhost:8080/"
        },
        "outputId": "366c5d58-5860-4595-df47-e8f786835628",
        "id": "GAL0bVjYpiGq"
      },
      "execution_count": null,
      "outputs": [
        {
          "output_type": "stream",
          "name": "stdout",
          "text": [
            "**Multiple-Choice Questions:**\n",
            "\n",
            "1. **What are the two types of stars capable of exploding as supernovae, according to the text?**  \n",
            "   A) White dwarfs and red giants  \n",
            "   B) White dwarfs and massive stars (≥8 solar masses)  \n",
            "   C) Red giants and neutron stars  \n",
            "   D) Neutron stars and black holes  \n",
            "   **Answer:** B) White dwarfs and massive stars (≥8 solar masses)  \n",
            "\n",
            "2. **Why is the Sun not at risk of becoming a supernova?**  \n",
            "   A) It is not massive enough to undergo such an explosion.  \n",
            "   B) It is a red dwarf star.  \n",
            "   C) It is already a white dwarf.  \n",
            "   D) It is too old to sustain fusion reactions.  \n",
            "   **Answer:** A) It is not massive enough to undergo such an explosion.  \n",
            "\n",
            "3. **What is the primary threat to Earth from a nearby supernova, as described in the text?**  \n",
            "   A) The visible light from the explosion.  \n",
            "   B) A burst of high-energy gamma rays.  \n",
            "   C) The formation of a neutron star remnant.  \n",
            "   D) The gravitational pull of the exploding star.  \n",
            "   **Answer:** B) A burst of high-energy gamma rays.  \n",
            "\n",
            "4. **Which event is speculated to have been caused by a gamma-ray burst from a supernova?**  \n",
            "   A) The extinction of the dinosaurs.  \n",
            "   B) The Late Ordovician mass extinction.  \n",
            "   C) The Cambrian explosion.  \n",
            "   D) The Great Dying.  \n",
            "   **Answer:** B) The Late Ordovician mass extinction.  \n",
            "\n",
            "5. **Which star is currently the closest known \"supernova progenitor candidate\" to Earth?**  \n",
            "   A) Betelgeuse  \n",
            "   B) IK Pegasi B  \n",
            "   C) Sirius  \n",
            "   D) Proxima Centauri  \n",
            "   **Answer:** B) IK Pegasi B  \n",
            "\n",
            "---  \n",
            "**Explanation of Answers:**  \n",
            "1. The text explicitly states that Type I supernovae result from white dwarfs in binary systems, while Type II come from massive stars (≥8 solar masses).  \n",
            "2. The Sun is ruled out for both categories (Type I and II) due to its insufficient mass.  \n",
            "3. Gamma-ray bursts are highlighted as the key threat, capable of damaging Earth's ozone layer and creating nitrogen oxides.  \n",
            "4. The Late Ordovician mass extinction is directly linked to a gamma-ray burst from a supernova in the text.  \n",
            "5. IK Pegasi B is noted as the closest known candidate, at 150 light years, compared to Betelgeuse’s 642 light years.\n"
          ]
        }
      ]
    },
    {
      "cell_type": "code",
      "source": [
        "completion = client.chat.completions.create(\n",
        "  model=\"google/gemini-flash-1.5-8b\",\n",
        "  messages=[\n",
        "    {\n",
        "      \"role\": \"user\",\n",
        "      \"content\": \"imagine you are a teacher and you want your students to learn but not to memorize everything so you generate most creative questions, now generate 5 most creative multiple-choice questions from the following text: A supernova is what happens when a large enough star explodes. Such explosions are among the most dramatic of all astronomical events, and the resulting remnant can be a spectacular sight thousands of years later. Fortunately, supernovae are relatively rare, and we\\'re very unlikely to get caught up in one. The most disastrous thing from our perspective would be if our own Sun went supernova, but this will never happen. Only two types of star are capable of exploding in such a dramatic fashion: super-dense white dwarfs orbiting larger companion stars, which can produce Type I supernovae, or stars with at least eight times as much mass as the Sun, which end their lives as Type Il supernovae. Our Sun isn\\'t in eigher of this categories. Even so, this doesn\\'t mean that Earth can never be harmed by a supernova - in theory, at least. As well as producing the visible remnant, a supernova creates a burst of high-energy radiation that travels outwards at the speed of light. This radiation, particularly the highest energy gamma rays, could damage Earth\\'s biosphere if it came from the explosion of a nearby star. A sudden burst of gamma rays hitting the upper atmosphere could convert nitrogen and oxygen into smog-like nitrogen oxides, as well as damaging the ozone layer that protects Earth\\'s surface from the deadliest frequencies of ultraviolet radiation. These effects would be particularly catastrophic for marine life. Scientists have speculated that just such a gamma-ray burst around 450 million years ago caused the Late Ordovician mass extinction, which saw the death of around 60 per cent of all oceanic life on Earth. The big question is how close a supernova has to be to produce effects like these on our planet. There\\'s plenty of uncertainty around the exact figures, but the graphic on this page shows the current best guess as to the danger zone. Fortunately, astronomers aren\\'t aware of any imminent supernovae close to us . The best known star likely to produce a Type Il supernova any time soon is Betelgeuse, which is a perfectly safe 642 light years away. The closest of all the known \\'supernova progenitor candidates\\' is a star called IK Pegasi B, which could potentially create a Type I supernova - but even this is a borderline-safe 150 light years away.\"\n",
        "    }\n",
        "  ]\n",
        ")\n",
        "\n",
        "print(completion.choices[0].message.content)\n"
      ],
      "metadata": {
        "colab": {
          "base_uri": "https://localhost:8080/"
        },
        "outputId": "02acfa29-c23f-4ff1-ed39-458868ac9c20",
        "id": "7_dTG_g2piGt"
      },
      "execution_count": null,
      "outputs": [
        {
          "output_type": "stream",
          "name": "stdout",
          "text": [
            "1. **Which of the following best describes the crucial factor determining a star's potential for a supernova?**\n",
            "    a)  The star's age.\n",
            "    b)  The star's distance from Earth.\n",
            "    c)  The star's size and composition.\n",
            "    d)  The presence or absence of a planetary system.\n",
            "\n",
            "2. **If a supernova occurred near Earth, what is the primary immediate threat to Earth's biosphere, and why is this so damaging?**\n",
            "    a)  The shockwave, because it destroys everything in its path.\n",
            "    b)  The gravitational pull, because it rips away the atmosphere.\n",
            "    c)  A burst of high energy radiation, specifically gamma rays, as it can strip away protective layers of the atmosphere.\n",
            "    d)  The intense heat, because it cooks all living things.\n",
            "\n",
            "3. **The text highlights a potential link between supernovae and mass extinctions.  What evidence supports this claim?**\n",
            "   a)  The frequent occurrence of supernovas coincide with periods of mass extinction.\n",
            "   b)  A supernova remnant near the Earth produced a recent mass extinction.\n",
            "   c)  Scientific modeling predicts that supernovae close enough to earth have affected Earth's atmosphere resulting in mass extinctions in the past\n",
            "    d)  The text suggests that a gamma ray burst, potentially caused by a supernova, may have contributed to a major extinction event.\n",
            "\n",
            "4. **What characteristics classify a supernova as Type I?**\n",
            "    a) The explosion of super massive stars, forming black holes.\n",
            "    b) The interaction of two white dwarfs, in tightly-orbiting binaries. \n",
            "    c) The formation of a pulsar, in which the core of a collapsing star\n",
            "    d) The explosion of a red giant, and the creation of a planetary nebula.\n",
            "\n",
            "\n",
            "5. **Based on the information provided, what is the most accurate statement about the likelihood of our Sun becoming a supernova?**\n",
            "    a) The Sun *is* capable of exploding into a supernova.\n",
            "    b) The Sun will definitely become a supernova, in the future.\n",
            "   c) The Sun is very unlikely to experience a supernova because it doesn't meet the criteria.\n",
            "    d)  Future research will reveal whether the Sun will become a supernova.\n",
            "\n",
            "\n",
            "These questions encourage critical thinking about the concepts rather than rote memorization of facts. They require students to analyze the provided text and synthesize information to arrive at the correct answer.\n",
            "\n"
          ]
        }
      ]
    },
    {
      "cell_type": "code",
      "source": [
        "completion = client.chat.completions.create(\n",
        "  model=\"deepseek/deepseek-r1-0528-qwen3-8b:free\",\n",
        "  messages=[\n",
        "    {\n",
        "      \"role\": \"user\",\n",
        "      \"content\": \"imagine you are a teacher and you want your students to learn but not to memorize everything so you generate most creative questions, now generate 5 most creative and clear multiple-choice questions  with high relevance from the following text: A supernova is what happens when a large enough star explodes. Such explosions are among the most dramatic of all astronomical events, and the resulting remnant can be a spectacular sight thousands of years later. Fortunately, supernovae are relatively rare, and we\\'re very unlikely to get caught up in one. The most disastrous thing from our perspective would be if our own Sun went supernova, but this will never happen. Only two types of star are capable of exploding in such a dramatic fashion: super-dense white dwarfs orbiting larger companion stars, which can produce Type I supernovae, or stars with at least eight times as much mass as the Sun, which end their lives as Type Il supernovae. Our Sun isn\\'t in eigher of this categories. Even so, this doesn\\'t mean that Earth can never be harmed by a supernova - in theory, at least. As well as producing the visible remnant, a supernova creates a burst of high-energy radiation that travels outwards at the speed of light. This radiation, particularly the highest energy gamma rays, could damage Earth\\'s biosphere if it came from the explosion of a nearby star. A sudden burst of gamma rays hitting the upper atmosphere could convert nitrogen and oxygen into smog-like nitrogen oxides, as well as damaging the ozone layer that protects Earth\\'s surface from the deadliest frequencies of ultraviolet radiation. These effects would be particularly catastrophic for marine life. Scientists have speculated that just such a gamma-ray burst around 450 million years ago caused the Late Ordovician mass extinction, which saw the death of around 60 per cent of all oceanic life on Earth. The big question is how close a supernova has to be to produce effects like these on our planet. There\\'s plenty of uncertainty around the exact figures, but the graphic on this page shows the current best guess as to the danger zone. Fortunately, astronomers aren\\'t aware of any imminent supernovae close to us . The best known star likely to produce a Type Il supernova any time soon is Betelgeuse, which is a perfectly safe 642 light years away. The closest of all the known \\'supernova progenitor candidates\\' is a star called IK Pegasi B, which could potentially create a Type I supernova - but even this is a borderline-safe 150 light years away.\"\n",
        "    }\n",
        "  ]\n",
        ")\n",
        "\n",
        "print(completion.choices[0].message.content)\n"
      ],
      "metadata": {
        "colab": {
          "base_uri": "https://localhost:8080/"
        },
        "outputId": "3a1756bf-c99f-448f-cd44-6960b55bd439",
        "id": "QE6DOQ3-piGt"
      },
      "execution_count": null,
      "outputs": [
        {
          "output_type": "stream",
          "name": "stdout",
          "text": [
            "Okay, class! Your job is to understand the *implications* and *details* of this fascinating text, not just remember textbook facts. Memorization won't help you hesitate when blasting off to new scientific frontiers! Let's put your critical thinking hats on. Here are five creative multiple-choice questions. Circle the single best answer for each.\n",
            "\n",
            "***\n",
            "\n",
            "#### Questions (Circle the best answer)\n",
            "\n",
            "**(1) Implication of Supernova Gamma Rays:**\n",
            "Suppose a supernova explosion occurs relatively *close* to Earth (within a few hundred light years). According to the text, a subsequent burst of high-energy gamma rays could lead to consequences beyond immediate bombardment. Which scenario best aligns with the described effect mechanism?\n",
            "    (A) A massive new moon forms due to displaced debris.\n",
            "    (B) Earth's entire atmosphere gets temporarily turned inside out.\n",
            "    (C) Nitrogen oxides are produced in the atmosphere, affecting ozone and climate.\n",
            "    (D) Nearby alien civilizations receive a clear invitation for interstellar peace.\n",
            "\n",
            "**(2) Supernova Type Distinction:**\n",
            "Roughly half the supernovae discussed are called Type I, originating from super-dense white dwarfs. If you observed a massive star swelling and then exploding with tremendous force, which Type II supernova detail would best confirm *its specific cause was its own immense mass failure*?\n",
            "    (A) It was located safely orbiting another star at about 150 light-years distance.\n",
            "    (B) The explosion occurred within a nebula, clouding any direct view of ejected elements.\n",
            "    (C) Complete failure to detect supernova remnants such as a typical expanding shock wave.\n",
            "    (D) The recorded light pulse suggested an absence of the specific spectral lines associated with core collapse in its own evolution stages.\n",
            "\n",
            "**(3) Cause for Star Classification:**\n",
            "You're observing a star deemed a potential supernova candidate by astronomers. Notice the text states: \"Only two types of star are capable... : super-dense white dwarfs... Type I..., or [massive] stars... Type II...\". Imagine a star is found in a dense cluster near the center of the Milky Way. According to the text alone, which statement would *first* make you suspect it *might* end as a Type II?\n",
            "    (A) Its color is a hazy, reddish glow.\n",
            "    (B) It orbits closely with another dying star.\n",
            "    (C) Its mass, if estimated, was at least 10 times that of the Sun.\n",
            "    (D) It is in a binary system known to be highly stable.\n",
            "\n",
            "**(4) Differential Extinction Severity:**\n",
            "The text connects gamma-ray bursts to potentially catastrophic effects on marine life, mentioning extinction events. Deep ocean sediments show a period when temperatures briefly spiked and then severe glaciation followed very quickly. You hypothesize this relates to an old supernova impact. *Which specific, severe consequence described is most directly implied from a close, *Type II* supernova event, making marine extinction particularly severe?*\n",
            "    (A) Increased atmospheric nitrogen fertilizing the oceans.\n",
            "    (Doubted detail, need thinking)\n",
            "    *Correction/Refocus:* We need to link the *type* mentioned. Wait, the text doesn't specify the type for the Ordovician one. It just mentions a gamma-ray burst causing issues, which *could* come from either type if nearby, but Type II are massive stellar deaths. The specific danger zone is discussed later.\n",
            "    *Let me reframe:* Based *only* on the text's description of gamma rays causing atmospheric nitrogen oxides and ozone damage, *regardless* of if it was Type I or Type II, the direct *cause* of the widespread impact was the same: the *gamma-ray environment* created by the supernova. But the consequence for marine life was linked to the atmospheric changes affecting the *ocean* via sunlight filtering/removal of UV. The connection to distance threshold is key here for severity.\n",
            "    *Better Question approach:* This focuses more on directly recalling the text's consequence mechanism for the biological impact.\n",
            "\n",
            "**(4) Revised: Consequence Severity Relating to Distance:**\n",
            "The graphic referenced (not shown to us, but likely based on text) gives a danger zone. Based *only* on the text describing gamma-ray effects and mentioning a specific mass extinction, *what assumption can we make about the severity of potential damage from a supernova based on its distance?*\n",
            "    (A) The longer the time since the explosion (looking at the remnant stage), the closer it must have been.\n",
            "    (B) Damage intensity likely increases the closer the supernova would have to be to Earth.\n",
            "    (C) Any supernova visible to the naked eye will cause ocean extinctions.\n",
            "    (D) Supernovae naturally produce only gamma-ray bursts or visible light explosions.\n",
            "\n",
            "**Double-Refined:** The text implies distance is a factor via the \"danger zone\" and mentions effects *can* occur *successfully* at a certain distance (hinting that *closer* leads to more damage). The mass extinction example emphasizes this potential.\n",
            "\n",
            "**(4) Final Attempt: Connecting Cause, Effect & Distance:**\n",
            "If astronomers discovered a star *exactly* 300 light-years away predicted to collapse soon, it might be another *IK Pegasi or Betelgeuse*-like system. Considering the text's description of supernova danger *mechanism* (gamma rays altering atmosphere), *what is the most significant risk factor for Earth contained within this information?*\n",
            "    (A) The star's beauty, creating the most dazzling nightly display ever seen.\n",
            "    (B) The fact it's a Type I supernova, inherently safer.\n",
            "    (C) The immediate threat isn't the visual remnant, but the potential atmospheric damage if it were close enough to trigger the gamma-ray burst mechanism.\n",
            "    (D) Its name starts with an 'I', which statistically decreases likelihood of nearby stellar explosions.\n",
            "\n",
            "**...**\n",
            "\n",
            "### Let's choose the three *most* relevant and appropriately answerable versions.\n",
            "\n",
            "#### Resulting Questions for Learning\n",
            "\n",
            "Here are three revised creative, clear, and relevant questions based on the text:\n",
            "\n",
            "**(1) Cause & Effect (Gamma-Rays):**\n",
            "Suppose a Type II supernova occurs relatively close to Earth. According to the text, which scientifically plausible consequence could result from the initial high-energy particle burst?\n",
            "    (A) A sudden, noticeable dimming of our nearest star (the Sun).\n",
            "    (B) A cascade of events damaging the protective layer shielding us from destructive UV light.\n",
            "    (C) Immediate silvery streaks of meteors vaporizing in Earth's atmosphere.\n",
            "    (D) A temporary, beautiful aurora visible on the opposite side of the planet.\n",
            "\n",
            "**(2) Star Type Identification:**\n",
            "Astronomers identify a star system containing a white dwarf orbiting a larger star. They predict a Type I supernova might eventually result. What *specific* detail, according to the text, defines the massive stars (associated with Type II) and the white dwarfs (associated with Type I) as fundamentally different categories?\n",
            "    (A) Gamma rays emitted from massive stars are weaker; those from white dwarfs are stronger.\n",
            "    (B) White dwarfs orbit another star; massive stars orbit within a cluster.\n",
            "    (C) Their potential explosion mechanisms involve different starting conditions or stellar deaths.\n",
            "    (D) Massive stars require at least eight solar masses; white dwarfs require super-dense states.\n",
            "\n",
            "**(3) Consequence & Proximity (Distance Threshold):**\n",
            "Imagine you are assessing the risk of a newly discovered supernova progenitor. If this star is significantly closer than, say, Betelgeuse (642 light years), the paragraph about potential dangers discusses effects \"thousands of years later.\" What does this chronological difference primarily emphasize, according to the text?\n",
            "    (A) Proximity doesn't affect the rate at which the effects occur.\n",
            "    (B) Closer supernovae may have effects *only* if the effects travel very slowly.\n",
            "    (C) The long lag means the effects might be less severe by the time they reach us.\n",
            "    (D) The long lag implies that the immediate burst of particles might be damaging, and surface effects could manifest *after a significant waiting period*.\n",
            "\n",
            "### 5 Questions List (Final Output)\n",
            "\n",
            "(1) Implication of Supernova Gamma Rays:\n",
            "Suppose a supernova explosion occurs relatively *close* to Earth (within a few hundred light years). According to the text, a subsequent burst of high-energy gamma rays could lead to consequences beyond immediate bombardment. Which scenario best aligns with the described effect mechanism?\n",
            "    (A) A massive new moon formed near Earth.\n",
            "    (B) Earth's global climate shifts due to altered atmospheric gas composition.\n",
            "    (C) Nitrogen oxides are produced in the atmosphere, affecting ozone and climate.\n",
            "    (D) Marine life experiences a temporary feeding boom.\n",
            "\n",
            "(Difficult to uniquely map, the atmospheric change impact is broad.)\n",
            "\n",
            "**(2) Supernova Type Distinction:**\n",
            "Which detail best distinguishes a massive star (Type II supernova candidate) from a super-dense white dwarf (Type I supernova candidate) *as described in the text?*\n",
            "    (A) Massive stars are found only in galactic clusters, whereas white dwarfs are central.\n",
            "    (B) Massive stars must be part of binary systems, unlike white dwarfs.\n",
            "    (C) Their potential outcome involves different stellar evolution pathways and core collapse mechanisms vs. accretion.\n",
            "    (D) Massive stars are always many times older than the universes near white dwarfs.\n",
            "\n",
            "**(3) Distance & Severity:**\n",
            "Observations show a star nearly 1600 light years away, suspected to be about to become a supernova type I. Given the text's discussion on spatial proximity in relation to harmful effects, *which consideration is TRUE regarding potential risk?*\n",
            "    (A) Such a distant supernova poses absolutely no risk, as the effects faded before reaching Earth.\n",
            "    (B) The distance significantly elevates the risk because closer events have longer-term atmospheric impacts.\n",
            "    (C) The stored radiation in already-collected cosmic particles guarantees damage at any distance.\n",
            "    (D) Distance is less critical than the type (I or II) for determining overall risk.\n",
            "\n",
            "**(4) Consequence Mechanism (Gamma-Rays):**\n",
            "Why do the harmful effects mentioned later in the text, like atmospheric change and UV damage, rely *specifically* on the supernova's burst of high-energy radiation (which travels at the speed of light)?\n",
            "    (A) The radiation instantly creates harmful mutant bacteria.\n",
            "    (B) This light directly heats the Earth's surface instantly, causing widespread wildfires.\n",
            "    (C) It bombards the atmosphere, altering chemical reactions via its energy, thereby affecting air density and components.\n",
            "    (D) This is the emotional signal from space, urging humans to prepare.\n",
            "\n",
            "**(5) Identification & Safety Category:**\n",
            "An astronomer notes, \"IK Pegasi B... could potentially create a Type I supernova... 150 light years away... (borderline-safe).\" Based *only* on this text snippet and its main emphasis on supernova types and stars, *what is the *most* revealing information for identifying the *kind* of star IK Pegasi B *is*? (i.e., which type it *might* belong to if it ends its life?)*\n",
            "    (A) It stands very close to other supernova progenitor candidates.\n",
            "    (B) Its name 'B' indicates it is part of a binary star system together with IK Pegasi A.\n",
            "    (C) The classification 'Type I' supernova derives from its explosion producing little to no hydrogen, suggesting its progenitor is unique.\n",
            "    (D) The label 'borderline-safe' automatically tells us it's a white dwarf.\n",
            "\n",
            "### Let me know how you do!\n"
          ]
        }
      ]
    },
    {
      "cell_type": "code",
      "source": [
        "completion = client.chat.completions.create(\n",
        "  model=\"openai/gpt-4.1-nano\",\n",
        "  messages=[\n",
        "    {\n",
        "      \"role\": \"user\",\n",
        "      \"content\": \"imagine you are a teacher and you want your students to learn but not to memorize everything so you generate most creative questions, now generate 5 most creative and clear multiple-choice questions  with high relevance from the following text: A supernova is what happens when a large enough star explodes. Such explosions are among the most dramatic of all astronomical events, and the resulting remnant can be a spectacular sight thousands of years later. Fortunately, supernovae are relatively rare, and we\\'re very unlikely to get caught up in one. The most disastrous thing from our perspective would be if our own Sun went supernova, but this will never happen. Only two types of star are capable of exploding in such a dramatic fashion: super-dense white dwarfs orbiting larger companion stars, which can produce Type I supernovae, or stars with at least eight times as much mass as the Sun, which end their lives as Type Il supernovae. Our Sun isn\\'t in eigher of this categories. Even so, this doesn\\'t mean that Earth can never be harmed by a supernova - in theory, at least. As well as producing the visible remnant, a supernova creates a burst of high-energy radiation that travels outwards at the speed of light. This radiation, particularly the highest energy gamma rays, could damage Earth\\'s biosphere if it came from the explosion of a nearby star. A sudden burst of gamma rays hitting the upper atmosphere could convert nitrogen and oxygen into smog-like nitrogen oxides, as well as damaging the ozone layer that protects Earth\\'s surface from the deadliest frequencies of ultraviolet radiation. These effects would be particularly catastrophic for marine life. Scientists have speculated that just such a gamma-ray burst around 450 million years ago caused the Late Ordovician mass extinction, which saw the death of around 60 per cent of all oceanic life on Earth. The big question is how close a supernova has to be to produce effects like these on our planet. There\\'s plenty of uncertainty around the exact figures, but the graphic on this page shows the current best guess as to the danger zone. Fortunately, astronomers aren\\'t aware of any imminent supernovae close to us . The best known star likely to produce a Type Il supernova any time soon is Betelgeuse, which is a perfectly safe 642 light years away. The closest of all the known \\'supernova progenitor candidates\\' is a star called IK Pegasi B, which could potentially create a Type I supernova - but even this is a borderline-safe 150 light years away.\"\n",
        "    }\n",
        "  ]\n",
        ")\n",
        "\n",
        "print(completion.choices[0].message.content)\n"
      ],
      "metadata": {
        "colab": {
          "base_uri": "https://localhost:8080/"
        },
        "outputId": "3234fdbe-524e-4c25-fd76-ec21e0c0df11",
        "id": "GnIwCPGfpiGu"
      },
      "execution_count": null,
      "outputs": [
        {
          "output_type": "stream",
          "name": "stdout",
          "text": [
            "Certainly! Here are five creative and thought-provoking multiple-choice questions based on the provided text:\n",
            "\n",
            "---\n",
            "\n",
            "**1. If a supernova occurs in a star system nearby Earth, which of the following would NOT be a direct consequence?**\n",
            "\n",
            "A) A visible remnant remains for thousands of years  \n",
            "B) The creation of high-energy gamma rays traveling at the speed of light  \n",
            "C) The expansion of Earth's orbit away from the Sun due to increased solar radiation  \n",
            "D) Potential damage to Earth's ozone layer and biosphere from gamma-ray bursts\n",
            "\n",
            "**Correct answer:** C) The expansion of Earth's orbit away from the Sun due to increased solar radiation\n",
            "\n",
            "*Explanation:* While supernovae produce remnants and gamma rays that can harm Earth, they do not cause the Earth's orbit to change.\n",
            "\n",
            "---\n",
            "\n",
            "**2. Why is our Sun considered safe from exploding as a supernova based on the information given?**\n",
            "\n",
            "A) Because it is too old to undergo such an explosion  \n",
            "B) Because it doesn't belong to the specific star types capable of supernovae  \n",
            "C) Because supernovae only occur in distant galaxies, not our galaxy  \n",
            "D) Because the Sun is surrounded by a protective nebula\n",
            "\n",
            "**Correct answer:** B) Because it doesn't belong to the specific star types capable of supernovae\n",
            "\n",
            "*Explanation:* The Sun is neither a white dwarf in a binary system nor a star with at least eight times the Sun's mass, so it cannot go supernova.\n",
            "\n",
            "---\n",
            "\n",
            "**3. Which of the following statements best captures the potential impact of a nearby supernova's gamma-ray burst on Earth?**\n",
            "\n",
            "A) It would cause immediate mass extinction of all life on Earth.  \n",
            "B) It could damage Earth's ozone layer and harm marine life through atmospheric changes.  \n",
            "C) It would increase Earth's magnetic field, protecting it from solar radiation.  \n",
            "D) It would lead to a permanent increase in Earth's surface temperature.\n",
            "\n",
            "**Correct answer:** B) It could damage Earth's ozone layer and harm marine life through atmospheric changes.\n",
            "\n",
            "*Explanation:* The gamma-ray burst could convert atmospheric gases into nitrogen oxides and damage the ozone layer, impacting marine life.\n",
            "\n",
            "---\n",
            "\n",
            "**4. Based on current estimates, which of these stars is most likely to produce a supernova soon and why?**\n",
            "\n",
            "A) The Sun, because it is aging  \n",
            "B) Betelgeuse, because it's close enough and large enough to do so soon  \n",
            "C) IK Pegasi B, because it is only 150 light years away and a supernova progenitor  \n",
            "D) Polaris, because it’s known to be unstable\n",
            "\n",
            "**Correct answer:** B) Betelgeuse, because it's close enough and large enough to do so soon\n",
            "\n",
            "*Explanation:* Betelgeuse is the most imminent candidate among the stars mentioned, though it is still 642 light years away.\n",
            "\n",
            "---\n",
            "\n",
            "**5. The mass of a star determines the type of supernova it might produce. Which statement best summarizes this relationship?**\n",
            "\n",
            "A) Stars with less than eight times the Sun's mass always produce Type I supernovae.  \n",
            "B) White dwarfs in binary systems with larger stars are incapable of exploding as supernovae.  \n",
            "C) Stars with at least eight times the Sun's mass end their lives as Type II supernovae.  \n",
            "D) All stars, regardless of size, can become supernovae given enough time.\n",
            "\n",
            "**Correct answer:** C) Stars with at least eight times the Sun's mass end their lives as Type II supernovae.\n",
            "\n",
            "*Explanation:* According to the text, stars with at least eight times the Sun's mass produce Type II supernovae.\n",
            "\n",
            "---\n",
            "\n",
            "These questions are designed to promote critical thinking, connect concepts, and deepen understanding rather than simple memorization.\n"
          ]
        }
      ]
    },
    {
      "cell_type": "markdown",
      "source": [
        "#Comparison of generation of the multiple choice questions using promt engineering\n",
        "| Model             | Creativity (1 to 5) | Clarity (clear / partially clear / unclear) | Relevance (low / mid / high) |\n",
        "| :---------------- | :------: | :----: | :-----:|\n",
        "| qwen/qwen3-8b        |   3   | clear | mid |\n",
        "| google/gemini-flash-1.5-8b         |   5   | clear | high |\n",
        "| deepseek/deepseek-r1-0528-qwen3-8b:free |  6   | clear | high |\n",
        "| openai/gpt-4.1-nano |  5   | clear | high |\n",
        "\n",
        "\n"
      ],
      "metadata": {
        "id": "COpuelxdpiGu"
      }
    },
    {
      "cell_type": "markdown",
      "source": [
        "#Testing API for text extracting"
      ],
      "metadata": {
        "id": "k7N2Fm9He0L0"
      }
    },
    {
      "cell_type": "code",
      "source": [
        "!pip install pytesseract pdfplumber tabulate pillow"
      ],
      "metadata": {
        "colab": {
          "base_uri": "https://localhost:8080/"
        },
        "collapsed": true,
        "id": "ppVsKwRRJ5Bn",
        "outputId": "1d1596c8-25aa-40d3-889a-86a6d81f42cd"
      },
      "execution_count": 6,
      "outputs": [
        {
          "output_type": "stream",
          "name": "stdout",
          "text": [
            "Requirement already satisfied: pytesseract in /usr/local/lib/python3.11/dist-packages (0.3.13)\n",
            "Requirement already satisfied: pdfplumber in /usr/local/lib/python3.11/dist-packages (0.11.7)\n",
            "Requirement already satisfied: tabulate in /usr/local/lib/python3.11/dist-packages (0.9.0)\n",
            "Requirement already satisfied: pillow in /usr/local/lib/python3.11/dist-packages (11.2.1)\n",
            "Requirement already satisfied: packaging>=21.3 in /usr/local/lib/python3.11/dist-packages (from pytesseract) (24.2)\n",
            "Requirement already satisfied: pdfminer.six==20250506 in /usr/local/lib/python3.11/dist-packages (from pdfplumber) (20250506)\n",
            "Requirement already satisfied: pypdfium2>=4.18.0 in /usr/local/lib/python3.11/dist-packages (from pdfplumber) (4.30.1)\n",
            "Requirement already satisfied: charset-normalizer>=2.0.0 in /usr/local/lib/python3.11/dist-packages (from pdfminer.six==20250506->pdfplumber) (3.4.2)\n",
            "Requirement already satisfied: cryptography>=36.0.0 in /usr/local/lib/python3.11/dist-packages (from pdfminer.six==20250506->pdfplumber) (43.0.3)\n",
            "Requirement already satisfied: cffi>=1.12 in /usr/local/lib/python3.11/dist-packages (from cryptography>=36.0.0->pdfminer.six==20250506->pdfplumber) (1.17.1)\n",
            "Requirement already satisfied: pycparser in /usr/local/lib/python3.11/dist-packages (from cffi>=1.12->cryptography>=36.0.0->pdfminer.six==20250506->pdfplumber) (2.22)\n"
          ]
        }
      ]
    },
    {
      "cell_type": "code",
      "source": [
        "import os\n",
        "import pytesseract\n",
        "import pdfplumber\n",
        "from PIL import Image\n",
        "import requests\n",
        "from tabulate import tabulate\n",
        "from IPython.display import display, Markdown\n",
        "from google.colab import files\n",
        "\n",
        "OPENROUTER_API_KEY = \"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\"\n",
        "API_URL = \"https://openrouter.ai/api/v1/chat/completions\"\n",
        "HEADERS = {\n",
        "    \"Authorization\": f\"Bearer {OPENROUTER_API_KEY}\",\n",
        "    \"Content-Type\": \"application/json\"\n",
        "}\n",
        "\n",
        "MODELS = {\n",
        "    \"Qwen3-8B\": \"qwen/qwen3-8b\",\n",
        "    \"Gemini Flash 1.5\": \"google/gemini-flash-1.5-8b\",\n",
        "    \"DeepSeek R1 Qwen\": \"deepseek/deepseek-r1-0528-qwen3-8b:free\",\n",
        "    \"GPT-4.1-nano\": \"openai/gpt-4.1-nano\"\n",
        "}"
      ],
      "metadata": {
        "id": "riw_M6FKJ2Kk"
      },
      "execution_count": 7,
      "outputs": []
    },
    {
      "cell_type": "code",
      "source": [
        "print(\"📁 Upload a PDF, image, or text file:\")\n",
        "uploaded = files.upload()\n",
        "file_path = list(uploaded.keys())[0]\n",
        "\n",
        "\n",
        "def extract_text(file_path):\n",
        "    ext = file_path.lower().split('.')[-1]\n",
        "    if ext in [\"jpg\", \"jpeg\", \"png\"]:\n",
        "        image = Image.open(file_path)\n",
        "        return pytesseract.image_to_string(image)\n",
        "    elif ext == \"pdf\":\n",
        "        with pdfplumber.open(file_path) as pdf:\n",
        "            return \"\\n\".join([p.extract_text() or '' for p in pdf.pages])\n",
        "    elif ext in [\"txt\", \"md\"]:\n",
        "        with open(file_path, 'r', encoding='utf-8') as f:\n",
        "            return f.read()\n",
        "    else:\n",
        "        raise ValueError(\"Unsupported file type. Use .pdf, .jpg, .png, or .txt\")\n",
        "\n",
        "text = extract_text(file_path)\n",
        "print(\"✅ Text extracted:\")\n",
        "display(Markdown(f\"```\\n{text[:1000]}\\n```\"))\n",
        "\n",
        "\n",
        "def generate_prompt(text):\n",
        "    return (\n",
        "        f\"Assume you are a brilliant high school teacher.\\n\\n\"\n",
        "        f\"Read the following material:\\n\\n\"\n",
        "        f\"{text.strip()[:3000]}\\n\\n\"\n",
        "        f\"---\\n\\n\"\n",
        "        f\"Now:\\n\"\n",
        "        f\"1. Summarize the content in 3 concise sentences.\\n\"\n",
        "        f\"2. Create 3 deep, original questions a student might ask.\"\n",
        "    )\n",
        "\n",
        "prompt = generate_prompt(text)\n",
        "\n",
        "\n",
        "def query_model(model_id, prompt):\n",
        "    response = requests.post(API_URL, headers=HEADERS, json={\n",
        "        \"model\": model_id,\n",
        "        \"messages\": [{\"role\": \"user\", \"content\": prompt}]\n",
        "    })\n",
        "    try:\n",
        "        return response.json()['choices'][0]['message']['content'].strip()\n",
        "    except Exception as e:\n",
        "        return f\"❌ Error: {str(e)}\"\n",
        "\n",
        "responses = {}\n",
        "print(\"🚀 Sending prompt to models...\\n\")\n",
        "for name, model_id in MODELS.items():\n",
        "    print(f\"🔹 Querying {name}...\")\n",
        "    output = query_model(model_id, prompt)\n",
        "    responses[name] = output\n",
        "    display(Markdown(f\"### {name} Output\\n```\\n{output[:2000]}\\n```\"))\n"
      ],
      "metadata": {
        "id": "ZLTZSP8Ce4We",
        "colab": {
          "base_uri": "https://localhost:8080/",
          "height": 1000
        },
        "outputId": "c4ec8e64-b3a9-43df-9444-214dd45f4eb5"
      },
      "execution_count": 9,
      "outputs": [
        {
          "output_type": "stream",
          "name": "stdout",
          "text": [
            "📁 Upload a PDF, image, or text file:\n"
          ]
        },
        {
          "output_type": "display_data",
          "data": {
            "text/plain": [
              "<IPython.core.display.HTML object>"
            ],
            "text/html": [
              "\n",
              "     <input type=\"file\" id=\"files-884ccd6c-47be-42ff-8baf-3c7cda4ffc7a\" name=\"files[]\" multiple disabled\n",
              "        style=\"border:none\" />\n",
              "     <output id=\"result-884ccd6c-47be-42ff-8baf-3c7cda4ffc7a\">\n",
              "      Upload widget is only available when the cell has been executed in the\n",
              "      current browser session. Please rerun this cell to enable.\n",
              "      </output>\n",
              "      <script>// Copyright 2017 Google LLC\n",
              "//\n",
              "// Licensed under the Apache License, Version 2.0 (the \"License\");\n",
              "// you may not use this file except in compliance with the License.\n",
              "// You may obtain a copy of the License at\n",
              "//\n",
              "//      http://www.apache.org/licenses/LICENSE-2.0\n",
              "//\n",
              "// Unless required by applicable law or agreed to in writing, software\n",
              "// distributed under the License is distributed on an \"AS IS\" BASIS,\n",
              "// WITHOUT WARRANTIES OR CONDITIONS OF ANY KIND, either express or implied.\n",
              "// See the License for the specific language governing permissions and\n",
              "// limitations under the License.\n",
              "\n",
              "/**\n",
              " * @fileoverview Helpers for google.colab Python module.\n",
              " */\n",
              "(function(scope) {\n",
              "function span(text, styleAttributes = {}) {\n",
              "  const element = document.createElement('span');\n",
              "  element.textContent = text;\n",
              "  for (const key of Object.keys(styleAttributes)) {\n",
              "    element.style[key] = styleAttributes[key];\n",
              "  }\n",
              "  return element;\n",
              "}\n",
              "\n",
              "// Max number of bytes which will be uploaded at a time.\n",
              "const MAX_PAYLOAD_SIZE = 100 * 1024;\n",
              "\n",
              "function _uploadFiles(inputId, outputId) {\n",
              "  const steps = uploadFilesStep(inputId, outputId);\n",
              "  const outputElement = document.getElementById(outputId);\n",
              "  // Cache steps on the outputElement to make it available for the next call\n",
              "  // to uploadFilesContinue from Python.\n",
              "  outputElement.steps = steps;\n",
              "\n",
              "  return _uploadFilesContinue(outputId);\n",
              "}\n",
              "\n",
              "// This is roughly an async generator (not supported in the browser yet),\n",
              "// where there are multiple asynchronous steps and the Python side is going\n",
              "// to poll for completion of each step.\n",
              "// This uses a Promise to block the python side on completion of each step,\n",
              "// then passes the result of the previous step as the input to the next step.\n",
              "function _uploadFilesContinue(outputId) {\n",
              "  const outputElement = document.getElementById(outputId);\n",
              "  const steps = outputElement.steps;\n",
              "\n",
              "  const next = steps.next(outputElement.lastPromiseValue);\n",
              "  return Promise.resolve(next.value.promise).then((value) => {\n",
              "    // Cache the last promise value to make it available to the next\n",
              "    // step of the generator.\n",
              "    outputElement.lastPromiseValue = value;\n",
              "    return next.value.response;\n",
              "  });\n",
              "}\n",
              "\n",
              "/**\n",
              " * Generator function which is called between each async step of the upload\n",
              " * process.\n",
              " * @param {string} inputId Element ID of the input file picker element.\n",
              " * @param {string} outputId Element ID of the output display.\n",
              " * @return {!Iterable<!Object>} Iterable of next steps.\n",
              " */\n",
              "function* uploadFilesStep(inputId, outputId) {\n",
              "  const inputElement = document.getElementById(inputId);\n",
              "  inputElement.disabled = false;\n",
              "\n",
              "  const outputElement = document.getElementById(outputId);\n",
              "  outputElement.innerHTML = '';\n",
              "\n",
              "  const pickedPromise = new Promise((resolve) => {\n",
              "    inputElement.addEventListener('change', (e) => {\n",
              "      resolve(e.target.files);\n",
              "    });\n",
              "  });\n",
              "\n",
              "  const cancel = document.createElement('button');\n",
              "  inputElement.parentElement.appendChild(cancel);\n",
              "  cancel.textContent = 'Cancel upload';\n",
              "  const cancelPromise = new Promise((resolve) => {\n",
              "    cancel.onclick = () => {\n",
              "      resolve(null);\n",
              "    };\n",
              "  });\n",
              "\n",
              "  // Wait for the user to pick the files.\n",
              "  const files = yield {\n",
              "    promise: Promise.race([pickedPromise, cancelPromise]),\n",
              "    response: {\n",
              "      action: 'starting',\n",
              "    }\n",
              "  };\n",
              "\n",
              "  cancel.remove();\n",
              "\n",
              "  // Disable the input element since further picks are not allowed.\n",
              "  inputElement.disabled = true;\n",
              "\n",
              "  if (!files) {\n",
              "    return {\n",
              "      response: {\n",
              "        action: 'complete',\n",
              "      }\n",
              "    };\n",
              "  }\n",
              "\n",
              "  for (const file of files) {\n",
              "    const li = document.createElement('li');\n",
              "    li.append(span(file.name, {fontWeight: 'bold'}));\n",
              "    li.append(span(\n",
              "        `(${file.type || 'n/a'}) - ${file.size} bytes, ` +\n",
              "        `last modified: ${\n",
              "            file.lastModifiedDate ? file.lastModifiedDate.toLocaleDateString() :\n",
              "                                    'n/a'} - `));\n",
              "    const percent = span('0% done');\n",
              "    li.appendChild(percent);\n",
              "\n",
              "    outputElement.appendChild(li);\n",
              "\n",
              "    const fileDataPromise = new Promise((resolve) => {\n",
              "      const reader = new FileReader();\n",
              "      reader.onload = (e) => {\n",
              "        resolve(e.target.result);\n",
              "      };\n",
              "      reader.readAsArrayBuffer(file);\n",
              "    });\n",
              "    // Wait for the data to be ready.\n",
              "    let fileData = yield {\n",
              "      promise: fileDataPromise,\n",
              "      response: {\n",
              "        action: 'continue',\n",
              "      }\n",
              "    };\n",
              "\n",
              "    // Use a chunked sending to avoid message size limits. See b/62115660.\n",
              "    let position = 0;\n",
              "    do {\n",
              "      const length = Math.min(fileData.byteLength - position, MAX_PAYLOAD_SIZE);\n",
              "      const chunk = new Uint8Array(fileData, position, length);\n",
              "      position += length;\n",
              "\n",
              "      const base64 = btoa(String.fromCharCode.apply(null, chunk));\n",
              "      yield {\n",
              "        response: {\n",
              "          action: 'append',\n",
              "          file: file.name,\n",
              "          data: base64,\n",
              "        },\n",
              "      };\n",
              "\n",
              "      let percentDone = fileData.byteLength === 0 ?\n",
              "          100 :\n",
              "          Math.round((position / fileData.byteLength) * 100);\n",
              "      percent.textContent = `${percentDone}% done`;\n",
              "\n",
              "    } while (position < fileData.byteLength);\n",
              "  }\n",
              "\n",
              "  // All done.\n",
              "  yield {\n",
              "    response: {\n",
              "      action: 'complete',\n",
              "    }\n",
              "  };\n",
              "}\n",
              "\n",
              "scope.google = scope.google || {};\n",
              "scope.google.colab = scope.google.colab || {};\n",
              "scope.google.colab._files = {\n",
              "  _uploadFiles,\n",
              "  _uploadFilesContinue,\n",
              "};\n",
              "})(self);\n",
              "</script> "
            ]
          },
          "metadata": {}
        },
        {
          "output_type": "stream",
          "name": "stdout",
          "text": [
            "Saving Cover letter.pdf to Cover letter (1).pdf\n",
            "✅ Text extracted:\n"
          ]
        },
        {
          "output_type": "display_data",
          "data": {
            "text/plain": [
              "<IPython.core.display.Markdown object>"
            ],
            "text/markdown": "```\nWhy Ai?\nI have always wanted to be an inventor, even as a child. I spent most of my time\nimagining and sketching my craziest ideas—some of which may have already been\ninvented, while others were too “fictional.” I attempted to bring them to life, often failing,\nbut through these failures, I learned about processors, actuators, and various tiny machine\ncomponents. However, my access to the internet was limited, and I lived in a town that\nwas relatively underdeveloped at the time. After graduating from primary school, I\nmoved to Fergana as I was accepted into Specialized School No. 1. Although Fergana\nwas more advanced, it didn’t change my situation. Until 2019, I mainly focused on Math\nand English, but everything changed when I discovered that programming courses\nexisted. The realization blew my mind. I asked my parents for permission to enroll, and\nsoon, I joined an online course in C++ and Python. The idea that coding could allow me\nto build machines that materialized my dreams was ex\n```"
          },
          "metadata": {}
        },
        {
          "output_type": "stream",
          "name": "stdout",
          "text": [
            "🚀 Sending prompt to models...\n",
            "\n",
            "🔹 Querying Qwen3-8B...\n"
          ]
        },
        {
          "output_type": "display_data",
          "data": {
            "text/plain": [
              "<IPython.core.display.Markdown object>"
            ],
            "text/markdown": "### Qwen3-8B Output\n```\n**Summary:**  \nThe individual has long dreamed of inventing, experimenting with mechanical designs as a child. Limited internet access initially constrained their creativity, but discovering programming in 2019 opened new possibilities, eventually leading them to AI through ChatGPT in 2022. Their passion for AI grew as they explored its applications and limitations, culminating in enrollment at Istanbul Technical University and participation in an advanced AI course.  \n\n**Original Questions:**  \n1. How did your early failures in building machines with limited resources shape your perspective on the role of technology in problem-solving?  \n2. What specific aspects of AI’s limitations sparked your deeper curiosity about its underlying mechanisms, and how did that drive your academic focus?  \n3. In what ways do you think tools like PyTorch and Matplotlib have transformed your understanding of AI compared to traditional programming?\n```"
          },
          "metadata": {}
        },
        {
          "output_type": "stream",
          "name": "stdout",
          "text": [
            "🔹 Querying Gemini Flash 1.5...\n"
          ]
        },
        {
          "output_type": "display_data",
          "data": {
            "text/plain": [
              "<IPython.core.display.Markdown object>"
            ],
            "text/markdown": "### Gemini Flash 1.5 Output\n```\n1.  The author, driven by a lifelong interest in invention, initially struggled with limited access to technology.  Their path to AI began with programming, culminating in a fascination with ChatGPT and a subsequent pursuit of formalized AI education, ultimately leading to acceptance into Istanbul Technical University.  The author's journey emphasizes the importance of persistence and adaptability when pursuing complex fields like AI.\n\n\n2.  **Deep, Original Questions:**\n\n    a)  \"The author mentions feeling disillusioned by the limitations of programming before encountering ChatGPT.  What specific limitations of programming were most frustrating to them, and how did those limitations shape their understanding of the potential of AI?\" (This question explores the specific frustrations that drove the author to AI, delving into the author's thought process.)\n\n    b)  \"The text highlights the author's research into specific AI tools like PyTorch, Matplotlib, and Pandas. How did the practical application of these tools, rather than just theoretical knowledge, foster the author's understanding of AI principles and its potential impact?  What practical applications or projects could one explore to learn AI frameworks more than simply reading material?\" (This question probes the author's practical understanding of the tools, linking it to the potential applications of AI and moving beyond solely theoretical learning.)\n\n    c)  \"ChatGPT's ability to generate human-like text is captivating. But the author’s journey emphasizes understanding the underlying mechanisms.  How does the initial discovery of a tool like ChatGPT, with its apparent sophistication, inspire a desire to dissect and improve its functionalities, rather than simply being satisfied by its immediate output?\" (This question explores the deeper motivation behind the author's pursuit of understanding AI, shifting from a simple fascination to a proactive desire for deeper understanding and application.)\n```"
          },
          "metadata": {}
        },
        {
          "output_type": "stream",
          "name": "stdout",
          "text": [
            "🔹 Querying DeepSeek R1 Qwen...\n"
          ]
        },
        {
          "output_type": "display_data",
          "data": {
            "text/plain": [
              "<IPython.core.display.Markdown object>"
            ],
            "text/markdown": "### DeepSeek R1 Qwen Output\n```\nOkay, listening up guys! We just read this fascinating personal journey of someone who turned their childhood dream of invention into a path towards becoming an AI specialist. Great stuff, really inspiring how tenacious they were.\n\nTo start, let's break down what happened in a sentence or two. Can anyone hit the main points in three sentences?\n\n**Summary (3 sentences):**\n\n1.  Growing up interested in invention but hindered by limited resources led this student to specialize in math and programming in their youth (C++, Python).\n2.  However, discovering ChatGPT in 2022 completely shifted their focus and fascination towards AI, recognizing it as a more powerful tool than traditional programming for building.\n3.  This intense new interest led them to pursue and gain acceptance into the top AI program in Türkiye and participate in a key training course, embodying the \"Catalyst\" potential discussed.\n\nNow, this story raises some really interesting questions, especially since it illustrates how ChatGPT changed their path. What deeper thoughts come up when you read this? Think about why AI might have been the *specific* catalyst, or how setbacks might prepare someone for AI. Let's explore:\n\n**3 Deep, Original Questions:**\n\n1.  Given the narrator's long history of facing limitations (hometown resources, perceived programming limits), in what specific ways did ChatGPT *transform* these obstacles from roadblocks into opportunities for realization, rather than bypassing them entirely?\n2.  What fundamental *mindset shift* must occur when someone like the narrator feels, in the past, that tools they learned (\"Boring\" tools!) were limited, versus feeling that a new tool like AI offers fundamental new possibilities they can leverage for *any* machine-learning dream?\n3.  The father jokingly questioned if AI is just replacing programming, but the story clearly shows AI as the *destination*. How does the evolution from programming (\"toolbox\") to AI (\"master system\") represent a fundame\n```"
          },
          "metadata": {}
        },
        {
          "output_type": "stream",
          "name": "stdout",
          "text": [
            "🔹 Querying GPT-4.1-nano...\n"
          ]
        },
        {
          "output_type": "display_data",
          "data": {
            "text/plain": [
              "<IPython.core.display.Markdown object>"
            ],
            "text/markdown": "### GPT-4.1-nano Output\n```\n1. The author shares their childhood desire to invent and build machines, learning about technical components through trial and error despite limited resources; discovering programming and AI piqued their interest in creating more advanced innovations.  \n2. They enthusiastically explored coding, particularly fascinated by AI, especially ChatGPT, which deepened their curiosity about how AI works and how to improve it.  \n3. Their dedication led to university acceptance into a specialized AI program in Istanbul and participation in an intensive AI course, solidifying their knowledge and passion for AI and data engineering.  \n\nDeep, original questions a student might ask:  \n1. How do limitations in access to resources and early exposure influence a person’s motivation and success in innovative fields like AI?  \n2. In what ways can understanding the underlying mechanics of AI, such as with tools like ChatGPT, inspire new ideas or breakthroughs in technology?  \n3. How might the experience of failing and learning from failures shape a person’s approach to problem-solving and creativity in scientific research?\n```"
          },
          "metadata": {}
        }
      ]
    },
    {
      "cell_type": "markdown",
      "source": [
        "#📊 Evaluation Table:\n",
        "| Model            | Creativity   | Clarity   | Relevance   |\n",
        "|:------------------|:--------------:|:-----------:|:-------------:|\n",
        "| Qwen3-8B         | mid          | High      | High        |\n",
        "| Gemini Flash 1.5 | mid          | High      | High        |\n",
        "| DeepSeek R1 Qwen | High         | mid       | mid         |\n",
        "| GPT-4.1-nano     | mid          | High      | High        |"
      ],
      "metadata": {
        "id": "XgrlvcdPK6sA"
      }
    },
    {
      "cell_type": "markdown",
      "source": [],
      "metadata": {
        "id": "vuKfH3Y1MVec"
      }
    }
  ]
}